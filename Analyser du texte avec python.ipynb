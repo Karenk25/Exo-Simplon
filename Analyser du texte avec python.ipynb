{
 "cells": [
  {
   "cell_type": "code",
   "execution_count": 12,
   "metadata": {},
   "outputs": [],
   "source": [
    "def polynome(x):\n",
    "    x2 = x**x\n",
    "    return x2 + x - 5"
   ]
  },
  {
   "cell_type": "code",
   "execution_count": 13,
   "metadata": {},
   "outputs": [
    {
     "data": {
      "text/plain": [
       "10000000005"
      ]
     },
     "execution_count": 13,
     "metadata": {},
     "output_type": "execute_result"
    }
   ],
   "source": [
    "polynome(10)"
   ]
  },
  {
   "cell_type": "code",
   "execution_count": 15,
   "metadata": {},
   "outputs": [
    {
     "data": {
      "text/plain": [
       "(2.9999999999999996, 9.965784284662087)"
      ]
     },
     "execution_count": 15,
     "metadata": {},
     "output_type": "execute_result"
    }
   ],
   "source": [
    "from math import log #on importe 1 fct existante\n",
    "def log_base(x, base=10):\n",
    "    return log(x) / log(base)\n",
    "\n",
    "y= log_base(1000) #identique à y = log_base(1000,2)\n",
    "z= log_base(1000, 2) #logarithme en base deux\n",
    "y,z"
   ]
  },
  {
   "cell_type": "code",
   "execution_count": 63,
   "metadata": {},
   "outputs": [
    {
     "ename": "NameError",
     "evalue": "name 'a' is not defined",
     "output_type": "error",
     "traceback": [
      "\u001b[0;31m---------------------------------------------------------------------------\u001b[0m",
      "\u001b[0;31mNameError\u001b[0m                                 Traceback (most recent call last)",
      "\u001b[0;32m<ipython-input-63-46df00e89bf4>\u001b[0m in \u001b[0;36m<module>\u001b[0;34m\u001b[0m\n\u001b[1;32m      4\u001b[0m     \u001b[0;32mreturn\u001b[0m \u001b[0ma\u001b[0m\u001b[0;34m\u001b[0m\u001b[0;34m\u001b[0m\u001b[0m\n\u001b[1;32m      5\u001b[0m \u001b[0;34m\u001b[0m\u001b[0m\n\u001b[0;32m----> 6\u001b[0;31m \u001b[0mprint\u001b[0m\u001b[0;34m(\u001b[0m\u001b[0ma\u001b[0m\u001b[0;34m)\u001b[0m \u001b[0;31m#déclenche une exception\u001b[0m\u001b[0;34m\u001b[0m\u001b[0;34m\u001b[0m\u001b[0m\n\u001b[0m",
      "\u001b[0;31mNameError\u001b[0m: name 'a' is not defined"
     ]
    }
   ],
   "source": [
    "def calcul(x):\n",
    "    y = x**2\n",
    "    z = x + y\n",
    "    return a\n",
    "    \n",
    "print(a) #déclenche une exception"
   ]
  },
  {
   "cell_type": "code",
   "execution_count": 21,
   "metadata": {},
   "outputs": [
    {
     "name": "stdout",
     "output_type": "stream",
     "text": [
      "intérieur du test 3\n",
      "après test 3\n"
     ]
    }
   ],
   "source": [
    "a = 2\n",
    "\n",
    "def test():\n",
    "    global a\n",
    "    a = 3\n",
    "    return print(\"intérieur du test\", a)\n",
    "    \n",
    "test()\n",
    "print(\"après test\", a)"
   ]
  },
  {
   "cell_type": "code",
   "execution_count": 26,
   "metadata": {},
   "outputs": [
    {
     "name": "stdout",
     "output_type": "stream",
     "text": [
      "je m'appelle pour x= 10\n",
      "je m'appelle pour x= 5.0\n",
      "je m'appelle pour x= 2.5\n",
      "je m'appelle pas pour x= 1.25\n"
     ]
    },
    {
     "data": {
      "text/plain": [
       "4"
      ]
     },
     "execution_count": 26,
     "metadata": {},
     "output_type": "execute_result"
    }
   ],
   "source": [
    "def recursive(x):\n",
    "    if x / 2 < 1:\n",
    "        print(\"je m'appelle pas pour x=\", x)\n",
    "        return 1\n",
    "    else:\n",
    "        print(\"je m'appelle pour x=\", x)\n",
    "        return recursive (x/2) + 1\n",
    "\n",
    "recursive(10)    "
   ]
  },
  {
   "cell_type": "code",
   "execution_count": 34,
   "metadata": {},
   "outputs": [],
   "source": [
    "s1 = \"Du passe faisons table rase\"\n",
    "l1 = [i for i in s1]\n",
    "l2 = s1.split(\"as\")\n",
    "l3 = s1.split()"
   ]
  },
  {
   "cell_type": "code",
   "execution_count": 37,
   "metadata": {},
   "outputs": [
    {
     "name": "stdout",
     "output_type": "stream",
     "text": [
      "D u   p\n",
      "['Du p', 'se faisons table r', 'e']\n",
      "['Du', 'passe', 'faisons', 'table', 'rase']\n"
     ]
    }
   ],
   "source": [
    "print(l1[0], l1[1], l1[2], l1[3])\n",
    "print(l2)\n",
    "print(l3)"
   ]
  },
  {
   "cell_type": "code",
   "execution_count": 43,
   "metadata": {},
   "outputs": [
    {
     "name": "stdout",
     "output_type": "stream",
     "text": [
      "Hello w\n",
      "Du passe faisons table rase\n"
     ]
    }
   ],
   "source": [
    "l1 = ['H', 'e', 'l', 'l', 'o', ' ', 'w']\n",
    "l2 = ['Du', 'passe', 'faisons', 'table', 'rase']\n",
    "s1 = \"\".join(l1)\n",
    "s2 = \" \".join(l2)\n",
    "\n",
    "print(s1)\n",
    "print(s2)"
   ]
  },
  {
   "cell_type": "code",
   "execution_count": 44,
   "metadata": {},
   "outputs": [
    {
     "name": "stdout",
     "output_type": "stream",
     "text": [
      "faisons TABLE\n"
     ]
    }
   ],
   "source": [
    "s1 = \"Faisons table rase\"\n",
    "s2 = s1[:8].lower() + s1[8:13].upper()\n",
    "print(s2)"
   ]
  },
  {
   "cell_type": "code",
   "execution_count": 46,
   "metadata": {},
   "outputs": [
    {
     "name": "stdout",
     "output_type": "stream",
     "text": [
      "3\n",
      "35\n",
      "-1\n"
     ]
    }
   ],
   "source": [
    "s1 = \"Ce texte contient deux fois le mot texte.\"\n",
    "print(s1.find('texte', 0))\n",
    "print(s1.find('texte', 4))\n",
    "print(s1.find('texte', 36))"
   ]
  },
  {
   "cell_type": "code",
   "execution_count": 45,
   "metadata": {},
   "outputs": [
    {
     "name": "stdout",
     "output_type": "stream",
     "text": [
      "3\n",
      "35\n",
      "-1\n"
     ]
    }
   ],
   "source": [
    "s1 = \"ce texte contient deux fois le mot texte.\"\n",
    "max = 0\n",
    "while max > -1:\n",
    "    max = s1.find('texte', max+1)\n",
    "    print(max)"
   ]
  },
  {
   "cell_type": "code",
   "execution_count": 52,
   "metadata": {},
   "outputs": [
    {
     "name": "stdout",
     "output_type": "stream",
     "text": [
      "20\n",
      "Le prix est de \n",
      "Le prix est de $deux \n",
      "16\n",
      "Le prix est de $2.15 \n"
     ]
    }
   ],
   "source": [
    "s1 = \"Le prix est de deux euros.\"\n",
    "i = s1.index('euros')\n",
    "print(i)\n",
    "print(s1[:i-5])\n",
    "s2 = s1[:i-5] + '$' + s1[i-5:i]\n",
    "print(s2)\n",
    "j = s2.find('deux')\n",
    "print(j)\n",
    "s3 = s2[:j] + '2.15' + s2[j+4:]\n",
    "print(s3)"
   ]
  },
  {
   "cell_type": "code",
   "execution_count": 53,
   "metadata": {},
   "outputs": [
    {
     "name": "stdout",
     "output_type": "stream",
     "text": [
      "Le prix est de $2.15.\n"
     ]
    }
   ],
   "source": [
    "s1 = \"Le prix est de deux euros.\"\n",
    "s2 = s1.replace('deux euros', '$2.15')\n",
    "print(s2)"
   ]
  },
  {
   "cell_type": "code",
   "execution_count": 54,
   "metadata": {},
   "outputs": [
    {
     "name": "stdout",
     "output_type": "stream",
     "text": [
      "nombre\n",
      "mot\n",
      "?\n"
     ]
    }
   ],
   "source": [
    "s = '300 seulement ?'\n",
    "l = s.split()\n",
    "for mot in l:\n",
    "    if mot.isalpha():\n",
    "        print('mot')\n",
    "    if mot.isnumeric():\n",
    "        print('nombre')\n",
    "    if not mot.isalnum():\n",
    "        print('?')"
   ]
  },
  {
   "cell_type": "code",
   "execution_count": 79,
   "metadata": {},
   "outputs": [
    {
     "name": "stdout",
     "output_type": "stream",
     "text": [
      "['Le', 'Argentine']\n",
      "['PIB', 'Argentine', 'baisse', 'depuis']\n"
     ]
    }
   ],
   "source": [
    "from re import findall\n",
    "s = \"Le PIB l'Argentine baisse depuis 3 ans\"\n",
    "l1 = findall('[A-Z][a-z]+', s)\n",
    "l2 = findall('[a-zA-Z]*[iI][a-zA-Z]*', s)\n",
    "print(l1)\n",
    "print(l2)"
   ]
  },
  {
   "cell_type": "code",
   "execution_count": 17,
   "metadata": {},
   "outputs": [
    {
     "name": "stdout",
     "output_type": "stream",
     "text": [
      "['0678828383', '09.34.67.12.11', '03 11 23 20 38']\n"
     ]
    }
   ],
   "source": [
    "from re import findall\n",
    "motif = '0[1-9](?:[\\s\\.]?[0-9]{2}){4}'\n",
    "n1= \"0678828383,\"\n",
    "n2= \"09.34.67.12.11,\"\n",
    "n3= \"03 11 23 20 38,\"\n",
    "n4= \"03 11 30 23,\"\n",
    "n5= \"03. 34 25 2010,\"\n",
    "n6= \"03-26-28-45-37\"\n",
    "s= n1+n2+n3+n4+n5+n6\n",
    "print(findall(motif, s))"
   ]
  },
  {
   "cell_type": "code",
   "execution_count": 107,
   "metadata": {
    "scrolled": false
   },
   "outputs": [
    {
     "name": "stdout",
     "output_type": "stream",
     "text": [
      "Un texte HTML </strong> avec des balises et même <script type=\"texte/javascript\">var i = 5;</script> du javascript dedans.\n"
     ]
    }
   ],
   "source": [
    "from re import sub\n",
    "s = 'Un texte <strong>HTML </strong> avec des balises'\n",
    "s += ' et même <script type=\"texte/javascript\">'\n",
    "s += 'var i = 5;</script> du javascript dedans.'\n",
    "s1 = sub('<[a-z]*>', '', s)\n",
    "print(s1)"
   ]
  },
  {
   "cell_type": "code",
   "execution_count": 53,
   "metadata": {},
   "outputs": [
    {
     "name": "stdout",
     "output_type": "stream",
     "text": [
      "Un texte  du javascript dedans.\n",
      "Un texte HTML avec des balises et même var i = 5; du javascript dedans.\n",
      "Un texte HTML avec des balises et même var i = 5; du javascript dedans.\n"
     ]
    }
   ],
   "source": [
    "from re import sub\n",
    "s = 'Un texte <strong>HTML</strong> avec des balises'\n",
    "s += ' et même <script type=\"texte/javascript\">'\n",
    "s += 'var i = 5;</script> du javascript dedans.'\n",
    "s1 = sub('<.*>', '', s)\n",
    "s2 = sub('<[a-z\\\\/\"=\\s]*>', '', s)\n",
    "s3 = sub('<[^>]*>', '', s)\n",
    "print(s1)\n",
    "print(s2)\n",
    "print(s3)"
   ]
  },
  {
   "cell_type": "code",
   "execution_count": null,
   "metadata": {},
   "outputs": [],
   "source": []
  },
  {
   "cell_type": "code",
   "execution_count": 29,
   "metadata": {},
   "outputs": [
    {
     "name": "stdout",
     "output_type": "stream",
     "text": [
      "Le\n",
      "PIB\n"
     ]
    }
   ],
   "source": [
    "def hascap(s):\n",
    "    s1 = s.split()\n",
    "    for i in s1:\n",
    "        if ord(i[0]) > 65 and ord(i[0]) < 90:\n",
    "            print(i)\n",
    "\n",
    "hascap(\"Le PIB l'Argentine baisse depuis 3 ans\")"
   ]
  },
  {
   "cell_type": "code",
   "execution_count": 13,
   "metadata": {
    "scrolled": true
   },
   "outputs": [
    {
     "data": {
      "text/plain": [
       "'Le prix est de 40 euros'"
      ]
     },
     "execution_count": 13,
     "metadata": {},
     "output_type": "execute_result"
    }
   ],
   "source": [
    "def inflation(s):\n",
    "    s1 = s.split()\n",
    "    for indice, mot in enumerate(s1):\n",
    "        if mot.isnumeric():\n",
    "            s1[indice] = str(int(mot) * 2)\n",
    "    phrase = \" \".join(s1)\n",
    "    return phrase\n",
    "        \n",
    "        \n",
    "inflation(\"Le prix est de 20 euros\")\n"
   ]
  },
  {
   "cell_type": "code",
   "execution_count": 60,
   "metadata": {},
   "outputs": [
    {
     "name": "stdout",
     "output_type": "stream",
     "text": [
      "['Onze ans déjà que cela ', 'passe vite. Vous vous ', 'étiez servis ', 'simplement de vos ', 'armes la mort ', 'n‘éblouit pas les yeux ', 'des partisans. ']\n"
     ]
    }
   ],
   "source": [
    "#entree: longue chaines de caractère\n",
    "#traitement slicing en liste de mot\n",
    "#creation d'1 liste vide lignes\n",
    "#pour tout mot ds la liste:\n",
    "    #ajout un espace au mot\n",
    "    #si longeur du last element de la liste vide + longeur du mot < 24:\n",
    "        #ajoute le mot au dernier element de la liste ligne(+=mot)\n",
    "    #si non : ajoute le mot en tant que dernier element de la liste\n",
    "#sortie: liste ligne\n",
    "phrase = \"Onze ans déjà que cela passe vite. Vous vous étiez servis simplement de vos armes la mort n‘éblouit pas les yeux des partisans.\"\n",
    "liste = phrase.split()\n",
    "lignes = []\n",
    "for mot in liste:\n",
    "    s = mot + ' '\n",
    "    if len(s) < 24:\n",
    "        if lignes != [] and len(lignes[-1]) + len(s) < 24:\n",
    "            lignes[-1] += s\n",
    "        else:\n",
    "            lignes.append(s)\n",
    "print(lignes)\n",
    " "
   ]
  },
  {
   "cell_type": "code",
   "execution_count": 69,
   "metadata": {},
   "outputs": [
    {
     "name": "stdout",
     "output_type": "stream",
     "text": [
      "['2', '6.50']\n"
     ]
    }
   ],
   "source": [
    "#revoie la liste de tout les nbr d'1 chaîne de caractères (y compris décimaux et négatifs)\n",
    "from re import findall\n",
    "phrase = \"Les 2 maquereaux alent 6.50 euros\"\n",
    "motif = '(?:-)?[1-9]+[?:.]?[0-9]*'\n",
    "print(findall(motif, phrase))\n",
    "    \n",
    "    \n"
   ]
  },
  {
   "cell_type": "code",
   "execution_count": 1,
   "metadata": {},
   "outputs": [
    {
     "name": "stdout",
     "output_type": "stream",
     "text": [
      "L'evolution sur 3 jours est de 7 points\n"
     ]
    }
   ],
   "source": [
    "#fonction arrondi(s) qui ds la chaîne s troncature tout les nbr décimaux. on autorise le nbr négatifs\n",
    "#() pour désigner des blocs de données ds l'expression rationnelle\n",
    "#pour remplacer chacun des blocs l'expression est r'\\1_\\2_\n",
    "from re import *\n",
    "\n",
    "def tronc(s):\n",
    "    motif = r\"(-?)([0-9]+)[,.]?[0-9]*\"\n",
    "    return sub(motif, r\"\\1\\2\", s)\n",
    "s = \"L'evolution sur 3,5 jours est de 7.23 points\"\n",
    "print(tronc(s))"
   ]
  },
  {
   "cell_type": "code",
   "execution_count": null,
   "metadata": {},
   "outputs": [],
   "source": []
  }
 ],
 "metadata": {
  "kernelspec": {
   "display_name": "Python 3",
   "language": "python",
   "name": "python3"
  },
  "language_info": {
   "codemirror_mode": {
    "name": "ipython",
    "version": 3
   },
   "file_extension": ".py",
   "mimetype": "text/x-python",
   "name": "python",
   "nbconvert_exporter": "python",
   "pygments_lexer": "ipython3",
   "version": "3.7.6"
  }
 },
 "nbformat": 4,
 "nbformat_minor": 4
}
