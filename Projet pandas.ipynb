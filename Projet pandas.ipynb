{
 "cells": [
  {
   "cell_type": "code",
   "execution_count": 84,
   "metadata": {},
   "outputs": [],
   "source": [
    "import pandas as pd"
   ]
  },
  {
   "cell_type": "code",
   "execution_count": 112,
   "metadata": {},
   "outputs": [
    {
     "name": "stdout",
     "output_type": "stream",
     "text": [
      "                                                ZE2010           LIBZE2010  \\\n",
      "0                                                 0050      Mont-de-Marsan   \n",
      "1                                                 0051             Alençon   \n",
      "2                                                 0052       Cosne-Clamecy   \n",
      "3                                                 0053               Mâcon   \n",
      "4                                                 0054    Nogent-le-Rotrou   \n",
      "..                                                 ...                 ...   \n",
      "300                                               9404              Bastia   \n",
      "301                                               9405  Calvi-L'Île-Rousse   \n",
      "302                                               9406               Corte   \n",
      "303                                               9407  Ghisonaccia-Aléria   \n",
      "304  Source : Insee, Estimations de taux de chômage...                 NaN   \n",
      "\n",
      "      REG         LIBREG  2003-T1  2003-T2  2003-T3  2003-T4  2004-T1  \\\n",
      "0     0.0  interrégional      6.0      6.1      6.0      6.3      6.4   \n",
      "1     0.0  interrégional      7.2      7.5      7.2      7.6      7.7   \n",
      "2     0.0  interrégional      7.5      7.6      7.4      7.8      8.0   \n",
      "3     0.0  interrégional      5.3      5.3      5.2      5.3      5.4   \n",
      "4     0.0  interrégional      5.9      6.3      6.4      7.0      7.3   \n",
      "..    ...            ...      ...      ...      ...      ...      ...   \n",
      "300  94.0          Corse      9.2      8.9      8.9      9.3      9.4   \n",
      "301  94.0          Corse     11.7     11.4     11.2     11.4     11.2   \n",
      "302  94.0          Corse      8.3      7.6      8.2      8.1      8.0   \n",
      "303  94.0          Corse      9.6      8.8      9.0      9.4      9.6   \n",
      "304   NaN            NaN      NaN      NaN      NaN      NaN      NaN   \n",
      "\n",
      "     2004-T2  ...  2017-T4  2018-T1  2018-T2  2018-T3  2018-T4  2019-T1  \\\n",
      "0        6.2  ...      7.3      7.4      7.1      7.0      6.7      6.8   \n",
      "1        7.4  ...      8.3      8.6      8.4      8.4      8.1      8.1   \n",
      "2        7.7  ...      8.1      8.3      8.1      7.9      7.5      7.5   \n",
      "3        5.4  ...      6.4      6.5      6.5      6.4      6.3      6.4   \n",
      "4        7.2  ...      8.1      8.3      8.1      8.0      7.9      7.9   \n",
      "..       ...  ...      ...      ...      ...      ...      ...      ...   \n",
      "300      9.3  ...      9.7     10.1      9.7      9.4      9.2      9.2   \n",
      "301     11.5  ...     11.6     12.5     12.2     11.9     11.4     11.6   \n",
      "302      8.0  ...      8.5      8.9      8.9      8.6      7.8      8.2   \n",
      "303      9.7  ...     10.0     10.6     10.4     10.1      9.9     10.0   \n",
      "304      NaN  ...      NaN      NaN      NaN      NaN      NaN      NaN   \n",
      "\n",
      "     2019-T2  2019-T3  2019-T4  2020-T1  \n",
      "0        6.7      6.7      6.5      6.1  \n",
      "1        7.9      7.9      7.8      7.4  \n",
      "2        7.2      7.4      7.2      6.8  \n",
      "3        6.3      6.3      6.1      5.9  \n",
      "4        7.8      8.0      7.4      7.1  \n",
      "..       ...      ...      ...      ...  \n",
      "300      8.8      8.5      8.2      7.9  \n",
      "301     11.0     10.8     10.5     10.1  \n",
      "302      7.6      7.3      7.1      7.3  \n",
      "303      9.4      9.4      9.0      8.6  \n",
      "304      NaN      NaN      NaN      NaN  \n",
      "\n",
      "[305 rows x 73 columns]\n"
     ]
    }
   ],
   "source": [
    "nom_colonnes = ['ZE2010', 'LIBZE2010', 'REG', 'LIBREG']\n",
    "\n",
    "data = pd.read_excel('Téléchargements/chomage_zone.xls', sheet_name=\"txcho_ze\", skiprows=5)\n",
    "\n",
    "print(data)\n"
   ]
  },
  {
   "cell_type": "code",
   "execution_count": 113,
   "metadata": {},
   "outputs": [
    {
     "name": "stdout",
     "output_type": "stream",
     "text": [
      "  ZE2010         LIBZE2010  REG         LIBREG  2003-T1  2003-T2  2003-T3  \\\n",
      "0   0050    Mont-de-Marsan  0.0  interrégional      6.0      6.1      6.0   \n",
      "1   0051           Alençon  0.0  interrégional      7.2      7.5      7.2   \n",
      "2   0052     Cosne-Clamecy  0.0  interrégional      7.5      7.6      7.4   \n",
      "3   0053             Mâcon  0.0  interrégional      5.3      5.3      5.2   \n",
      "4   0054  Nogent-le-Rotrou  0.0  interrégional      5.9      6.3      6.4   \n",
      "\n",
      "   2003-T4  2004-T1  2004-T2  ...  2017-T4  2018-T1  2018-T2  2018-T3  \\\n",
      "0      6.3      6.4      6.2  ...      7.3      7.4      7.1      7.0   \n",
      "1      7.6      7.7      7.4  ...      8.3      8.6      8.4      8.4   \n",
      "2      7.8      8.0      7.7  ...      8.1      8.3      8.1      7.9   \n",
      "3      5.3      5.4      5.4  ...      6.4      6.5      6.5      6.4   \n",
      "4      7.0      7.3      7.2  ...      8.1      8.3      8.1      8.0   \n",
      "\n",
      "   2018-T4  2019-T1  2019-T2  2019-T3  2019-T4  2020-T1  \n",
      "0      6.7      6.8      6.7      6.7      6.5      6.1  \n",
      "1      8.1      8.1      7.9      7.9      7.8      7.4  \n",
      "2      7.5      7.5      7.2      7.4      7.2      6.8  \n",
      "3      6.3      6.4      6.3      6.3      6.1      5.9  \n",
      "4      7.9      7.9      7.8      8.0      7.4      7.1  \n",
      "\n",
      "[5 rows x 73 columns]\n"
     ]
    },
    {
     "data": {
      "text/plain": [
       "(None,)"
      ]
     },
     "execution_count": 113,
     "metadata": {},
     "output_type": "execute_result"
    }
   ],
   "source": [
    "# Afficher les premières lignes du dataframe.\n",
    "print(data.head()),"
   ]
  },
  {
   "cell_type": "code",
   "execution_count": 114,
   "metadata": {},
   "outputs": [
    {
     "name": "stdout",
     "output_type": "stream",
     "text": [
      "Index(['ZE2010', 'LIBZE2010', 'REG', 'LIBREG', '2003-T1', '2003-T2', '2003-T3',\n",
      "       '2003-T4', '2004-T1', '2004-T2', '2004-T3', '2004-T4', '2005-T1',\n",
      "       '2005-T2', '2005-T3', '2005-T4', '2006-T1', '2006-T2', '2006-T3',\n",
      "       '2006-T4', '2007-T1', '2007-T2', '2007-T3', '2007-T4', '2008-T1',\n",
      "       '2008-T2', '2008-T3', '2008-T4', '2009-T1', '2009-T2', '2009-T3',\n",
      "       '2009-T4', '2010-T1', '2010-T2', '2010-T3', '2010-T4', '2011-T1',\n",
      "       '2011-T2', '2011-T3', '2011-T4', '2012-T1', '2012-T2', '2012-T3',\n",
      "       '2012-T4', '2013-T1', '2013-T2', '2013-T3', '2013-T4', '2014-T1',\n",
      "       '2014-T2', '2014-T3', '2014-T4', '2015-T1', '2015-T2', '2015-T3',\n",
      "       '2015-T4', '2016-T1', '2016-T2', '2016-T3', '2016-T4', '2017-T1',\n",
      "       '2017-T2', '2017-T3', '2017-T4', '2018-T1', '2018-T2', '2018-T3',\n",
      "       '2018-T4', '2019-T1', '2019-T2', '2019-T3', '2019-T4', '2020-T1'],\n",
      "      dtype='object')\n"
     ]
    }
   ],
   "source": [
    "# Afficher le noms des colonnes avec l’attribut columns.\n",
    "print(data.columns)"
   ]
  },
  {
   "cell_type": "code",
   "execution_count": 115,
   "metadata": {},
   "outputs": [
    {
     "name": "stdout",
     "output_type": "stream",
     "text": [
      "0          Mont-de-Marsan\n",
      "1                 Alençon\n",
      "2           Cosne-Clamecy\n",
      "3                   Mâcon\n",
      "4        Nogent-le-Rotrou\n",
      "              ...        \n",
      "300                Bastia\n",
      "301    Calvi-L'Île-Rousse\n",
      "302                 Corte\n",
      "303    Ghisonaccia-Aléria\n",
      "304                   NaN\n",
      "Name: LIBZE2010, Length: 305, dtype: object Auvergne-Rhône-Alpes          35\n",
      "Nouvelle-Aquitaine            31\n",
      "Grand-Est                     31\n",
      "Occitanie                     30\n",
      "Hauts-de-France               26\n",
      "Bourgogne-Franche-Comté       23\n",
      "Normandie                     20\n",
      "Centre-Val-de-Loire           19\n",
      "Ile-de-France                 19\n",
      "Pays de la Loire              19\n",
      "Bretagne                      18\n",
      "Provence-Alpes-Côte d'Azur    17\n",
      "interrégional                  9\n",
      "Corse                          7\n",
      "Name: LIBREG, dtype: int64\n"
     ]
    }
   ],
   "source": [
    "# Utiliser la méthode Series.values_count() pour afficher le décompte\n",
    "# du nombre de zones d’emploies par département.\n",
    "print(data['LIBZE2010'], data['LIBREG'].value_counts())\n"
   ]
  },
  {
   "cell_type": "code",
   "execution_count": 116,
   "metadata": {},
   "outputs": [
    {
     "name": "stdout",
     "output_type": "stream",
     "text": [
      "    ZE2010                 LIBZE2010   REG                      LIBREG  \\\n",
      "280   9301           Digne-les-Bains  93.0  Provence-Alpes-Côte d'Azur   \n",
      "281   9302                  Manosque  93.0  Provence-Alpes-Côte d'Azur   \n",
      "282   9303                  Briançon  93.0  Provence-Alpes-Côte d'Azur   \n",
      "283   9304                       Gap  93.0  Provence-Alpes-Côte d'Azur   \n",
      "284   9305            Cannes-Antibes  93.0  Provence-Alpes-Côte d'Azur   \n",
      "285   9306  Menton Vallée de la Roya  93.0  Provence-Alpes-Côte d'Azur   \n",
      "286   9307                      Nice  93.0  Provence-Alpes-Côte d'Azur   \n",
      "287   9308           Aix-en-Provence  93.0  Provence-Alpes-Côte d'Azur   \n",
      "288   9309                     Arles  93.0  Provence-Alpes-Côte d'Azur   \n",
      "289   9310         Marseille-Aubagne  93.0  Provence-Alpes-Côte d'Azur   \n",
      "290   9311          Istres-Martigues  93.0  Provence-Alpes-Côte d'Azur   \n",
      "291   9312         Salon-de-Provence  93.0  Provence-Alpes-Côte d'Azur   \n",
      "292   9313                Draguignan  93.0  Provence-Alpes-Côte d'Azur   \n",
      "293   9314      Fréjus-Saint Raphaël  93.0  Provence-Alpes-Côte d'Azur   \n",
      "294   9315                    Toulon  93.0  Provence-Alpes-Côte d'Azur   \n",
      "295   9316             Cavaillon-Apt  93.0  Provence-Alpes-Côte d'Azur   \n",
      "296   9317                    Orange  93.0  Provence-Alpes-Côte d'Azur   \n",
      "\n",
      "     2003-T1  2003-T2  2003-T3  2003-T4  2004-T1  2004-T2  ...  2017-T4  \\\n",
      "280      7.5      7.6      7.2      7.6      7.7      7.5  ...     10.7   \n",
      "281     10.0     10.1      9.8      9.8      9.9      9.7  ...     11.2   \n",
      "282      7.0      7.1      7.0      7.4      7.4      7.4  ...      8.2   \n",
      "283      7.0      7.0      6.9      7.1      7.3      7.1  ...      8.2   \n",
      "284      9.5      9.7      9.4      9.5      9.5      9.3  ...      9.8   \n",
      "285      6.8      6.9      6.7      6.9      6.9      6.7  ...      8.3   \n",
      "286      8.1      8.1      8.0      8.3      8.3      8.1  ...      9.6   \n",
      "287      9.2      9.4      9.2      9.3      9.4      9.0  ...      8.4   \n",
      "288     11.1     11.4     11.1     11.4     11.5     11.0  ...     12.4   \n",
      "289     11.6     11.8     11.4     11.6     11.7     11.3  ...     11.5   \n",
      "290     10.3     10.5     10.3     10.5     10.5     10.2  ...     10.8   \n",
      "291     10.7     10.8     10.4     10.6     10.7     10.3  ...     10.4   \n",
      "292     11.4     11.4     11.2     11.4     11.3     11.1  ...     11.6   \n",
      "293     10.0     10.1     10.1     10.6     10.9     11.0  ...     11.7   \n",
      "294     10.6     10.6     10.3     10.5     10.6     10.4  ...      9.5   \n",
      "295      9.3      9.2      8.9      9.1      9.1      9.0  ...     11.9   \n",
      "296      9.7      9.6      9.2      9.3      9.4      9.3  ...     12.0   \n",
      "\n",
      "     2018-T1  2018-T2  2018-T3  2018-T4  2019-T1  2019-T2  2019-T3  2019-T4  \\\n",
      "280     11.0     10.7     10.6     10.4     10.3     10.0      9.8      9.4   \n",
      "281     11.6     11.4     11.1     10.9     11.0     10.6     10.5     10.0   \n",
      "282      8.4      8.3      8.4      8.2      8.3      8.3      8.0      7.9   \n",
      "283      8.3      8.3      8.2      8.0      8.0      7.7      7.5      7.2   \n",
      "284     10.1      9.9      9.7      9.5      9.5      9.1      9.1      8.7   \n",
      "285      8.4      8.1      7.8      7.6      7.6      7.3      7.2      6.9   \n",
      "286      9.8      9.6      9.5      9.2      9.2      8.9      8.9      8.4   \n",
      "287      8.6      8.5      8.3      8.1      8.0      7.7      7.7      7.3   \n",
      "288     12.5     12.5     12.3     11.7     11.8     11.4     11.4     11.0   \n",
      "289     11.9     11.7     11.6     11.2     11.2     10.8     10.7     10.3   \n",
      "290     11.1     10.8     10.7     10.2     10.3     10.1      9.9      9.6   \n",
      "291     10.6     10.4     10.3     10.0     10.0      9.7      9.5      9.1   \n",
      "292     12.0     11.8     11.5     11.2     11.2     10.9     10.8     10.2   \n",
      "293     12.2     11.9     11.7     11.5     11.5     11.1     11.0     10.5   \n",
      "294      9.7      9.6      9.5      9.3      9.3      8.9      8.8      8.4   \n",
      "295     12.1     11.9     11.8     11.4     11.7     11.2     11.2     10.7   \n",
      "296     12.2     12.1     12.0     11.7     11.6     11.3     11.2     10.5   \n",
      "\n",
      "     2020-T1  \n",
      "280      9.1  \n",
      "281      9.6  \n",
      "282      7.5  \n",
      "283      7.0  \n",
      "284      8.5  \n",
      "285      6.7  \n",
      "286      8.2  \n",
      "287      7.0  \n",
      "288     10.7  \n",
      "289      9.9  \n",
      "290      9.2  \n",
      "291      8.7  \n",
      "292      9.8  \n",
      "293     10.3  \n",
      "294      8.1  \n",
      "295     10.3  \n",
      "296     10.1  \n",
      "\n",
      "[17 rows x 73 columns]\n"
     ]
    }
   ],
   "source": [
    "#Filtrer et garder toute les ligne du dataframe pour lesquelles le\n",
    "#département est « Provence-Alpes-Côte d'Azur ».\n",
    "print(data[data['LIBREG'] == \"Provence-Alpes-Côte d'Azur\"])"
   ]
  },
  {
   "cell_type": "code",
   "execution_count": 117,
   "metadata": {},
   "outputs": [
    {
     "name": "stdout",
     "output_type": "stream",
     "text": [
      "    ZE2010                 LIBZE2010   REG                      LIBREG  \\\n",
      "280   9301           Digne-les-Bains  93.0  Provence-Alpes-Côte d'Azur   \n",
      "281   9302                  Manosque  93.0  Provence-Alpes-Côte d'Azur   \n",
      "282   9303                  Briançon  93.0  Provence-Alpes-Côte d'Azur   \n",
      "283   9304                       Gap  93.0  Provence-Alpes-Côte d'Azur   \n",
      "284   9305            Cannes-Antibes  93.0  Provence-Alpes-Côte d'Azur   \n",
      "285   9306  Menton Vallée de la Roya  93.0  Provence-Alpes-Côte d'Azur   \n",
      "286   9307                      Nice  93.0  Provence-Alpes-Côte d'Azur   \n",
      "287   9308           Aix-en-Provence  93.0  Provence-Alpes-Côte d'Azur   \n",
      "288   9309                     Arles  93.0  Provence-Alpes-Côte d'Azur   \n",
      "289   9310         Marseille-Aubagne  93.0  Provence-Alpes-Côte d'Azur   \n",
      "290   9311          Istres-Martigues  93.0  Provence-Alpes-Côte d'Azur   \n",
      "291   9312         Salon-de-Provence  93.0  Provence-Alpes-Côte d'Azur   \n",
      "292   9313                Draguignan  93.0  Provence-Alpes-Côte d'Azur   \n",
      "293   9314      Fréjus-Saint Raphaël  93.0  Provence-Alpes-Côte d'Azur   \n",
      "294   9315                    Toulon  93.0  Provence-Alpes-Côte d'Azur   \n",
      "295   9316             Cavaillon-Apt  93.0  Provence-Alpes-Côte d'Azur   \n",
      "296   9317                    Orange  93.0  Provence-Alpes-Côte d'Azur   \n",
      "\n",
      "     2003-T1  2003-T2  2003-T3  2003-T4  2004-T1  2004-T2  ...  2017-T4  \\\n",
      "280      7.5      7.6      7.2      7.6      7.7      7.5  ...     10.7   \n",
      "281     10.0     10.1      9.8      9.8      9.9      9.7  ...     11.2   \n",
      "282      7.0      7.1      7.0      7.4      7.4      7.4  ...      8.2   \n",
      "283      7.0      7.0      6.9      7.1      7.3      7.1  ...      8.2   \n",
      "284      9.5      9.7      9.4      9.5      9.5      9.3  ...      9.8   \n",
      "285      6.8      6.9      6.7      6.9      6.9      6.7  ...      8.3   \n",
      "286      8.1      8.1      8.0      8.3      8.3      8.1  ...      9.6   \n",
      "287      9.2      9.4      9.2      9.3      9.4      9.0  ...      8.4   \n",
      "288     11.1     11.4     11.1     11.4     11.5     11.0  ...     12.4   \n",
      "289     11.6     11.8     11.4     11.6     11.7     11.3  ...     11.5   \n",
      "290     10.3     10.5     10.3     10.5     10.5     10.2  ...     10.8   \n",
      "291     10.7     10.8     10.4     10.6     10.7     10.3  ...     10.4   \n",
      "292     11.4     11.4     11.2     11.4     11.3     11.1  ...     11.6   \n",
      "293     10.0     10.1     10.1     10.6     10.9     11.0  ...     11.7   \n",
      "294     10.6     10.6     10.3     10.5     10.6     10.4  ...      9.5   \n",
      "295      9.3      9.2      8.9      9.1      9.1      9.0  ...     11.9   \n",
      "296      9.7      9.6      9.2      9.3      9.4      9.3  ...     12.0   \n",
      "\n",
      "     2018-T1  2018-T2  2018-T3  2018-T4  2019-T1  2019-T2  2019-T3  2019-T4  \\\n",
      "280     11.0     10.7     10.6     10.4     10.3     10.0      9.8      9.4   \n",
      "281     11.6     11.4     11.1     10.9     11.0     10.6     10.5     10.0   \n",
      "282      8.4      8.3      8.4      8.2      8.3      8.3      8.0      7.9   \n",
      "283      8.3      8.3      8.2      8.0      8.0      7.7      7.5      7.2   \n",
      "284     10.1      9.9      9.7      9.5      9.5      9.1      9.1      8.7   \n",
      "285      8.4      8.1      7.8      7.6      7.6      7.3      7.2      6.9   \n",
      "286      9.8      9.6      9.5      9.2      9.2      8.9      8.9      8.4   \n",
      "287      8.6      8.5      8.3      8.1      8.0      7.7      7.7      7.3   \n",
      "288     12.5     12.5     12.3     11.7     11.8     11.4     11.4     11.0   \n",
      "289     11.9     11.7     11.6     11.2     11.2     10.8     10.7     10.3   \n",
      "290     11.1     10.8     10.7     10.2     10.3     10.1      9.9      9.6   \n",
      "291     10.6     10.4     10.3     10.0     10.0      9.7      9.5      9.1   \n",
      "292     12.0     11.8     11.5     11.2     11.2     10.9     10.8     10.2   \n",
      "293     12.2     11.9     11.7     11.5     11.5     11.1     11.0     10.5   \n",
      "294      9.7      9.6      9.5      9.3      9.3      8.9      8.8      8.4   \n",
      "295     12.1     11.9     11.8     11.4     11.7     11.2     11.2     10.7   \n",
      "296     12.2     12.1     12.0     11.7     11.6     11.3     11.2     10.5   \n",
      "\n",
      "     2020-T1  \n",
      "280      9.1  \n",
      "281      9.6  \n",
      "282      7.5  \n",
      "283      7.0  \n",
      "284      8.5  \n",
      "285      6.7  \n",
      "286      8.2  \n",
      "287      7.0  \n",
      "288     10.7  \n",
      "289      9.9  \n",
      "290      9.2  \n",
      "291      8.7  \n",
      "292      9.8  \n",
      "293     10.3  \n",
      "294      8.1  \n",
      "295     10.3  \n",
      "296     10.1  \n",
      "\n",
      "[17 rows x 73 columns]\n"
     ]
    }
   ],
   "source": [
    "data2 = (data[data['LIBREG'] == \"Provence-Alpes-Côte d'Azur\"])\n",
    "print(data2)"
   ]
  },
  {
   "cell_type": "code",
   "execution_count": 118,
   "metadata": {},
   "outputs": [
    {
     "name": "stdout",
     "output_type": "stream",
     "text": [
      "17\n"
     ]
    }
   ],
   "source": [
    "#afficher combien de fois une zone d’emploie apparait en « Provence-Alpes-Côte d'Azur ».\n",
    "print(data2['LIBZE2010'].value_counts().sum())"
   ]
  },
  {
   "cell_type": "code",
   "execution_count": 119,
   "metadata": {},
   "outputs": [
    {
     "name": "stdout",
     "output_type": "stream",
     "text": [
      "False\n"
     ]
    }
   ],
   "source": [
    "data_t1_2020 = pd.eval('2020-T1' > '7.1')\n",
    "print(data_t1_2020)"
   ]
  },
  {
   "cell_type": "code",
   "execution_count": 120,
   "metadata": {},
   "outputs": [
    {
     "name": "stdout",
     "output_type": "stream",
     "text": [
      "0      False\n",
      "1       True\n",
      "2      False\n",
      "3      False\n",
      "4      False\n",
      "       ...  \n",
      "300     True\n",
      "301     True\n",
      "302     True\n",
      "303     True\n",
      "304    False\n",
      "Name: 2020-T1, Length: 305, dtype: bool\n"
     ]
    }
   ],
   "source": [
    "data_t1_2020 = data['2020-T1']>7.1\n",
    "print(data_t1_2020)"
   ]
  },
  {
   "cell_type": "code",
   "execution_count": 121,
   "metadata": {},
   "outputs": [
    {
     "name": "stdout",
     "output_type": "stream",
     "text": [
      "0      False\n",
      "1       True\n",
      "2      False\n",
      "3      False\n",
      "4      False\n",
      "       ...  \n",
      "300     True\n",
      "301     True\n",
      "302     True\n",
      "303     True\n",
      "304    False\n",
      "Name: 2020-T1, Length: 305, dtype: bool\n"
     ]
    }
   ],
   "source": [
    "data_t1_2020 = data['2020-T1']>7.1\n",
    "print(data_t1_2020)"
   ]
  },
  {
   "cell_type": "code",
   "execution_count": 122,
   "metadata": {},
   "outputs": [
    {
     "name": "stdout",
     "output_type": "stream",
     "text": [
      "0      False\n",
      "1       True\n",
      "2       True\n",
      "3      False\n",
      "4       True\n",
      "       ...  \n",
      "300     True\n",
      "301     True\n",
      "302     True\n",
      "303     True\n",
      "304    False\n",
      "Name: 2019-T1, Length: 305, dtype: bool\n"
     ]
    }
   ],
   "source": [
    "data_t1_2019 = data['2019-T1']>7.1\n",
    "print(data_t1_2019)"
   ]
  },
  {
   "cell_type": "code",
   "execution_count": 123,
   "metadata": {},
   "outputs": [
    {
     "name": "stdout",
     "output_type": "stream",
     "text": [
      "0       True\n",
      "1       True\n",
      "2       True\n",
      "3      False\n",
      "4       True\n",
      "       ...  \n",
      "300     True\n",
      "301     True\n",
      "302     True\n",
      "303     True\n",
      "304    False\n",
      "Name: 2018-T1, Length: 305, dtype: bool\n"
     ]
    }
   ],
   "source": [
    "data_t1_2018 = data['2018-T1']>7.1\n",
    "print(data_t1_2018)"
   ]
  },
  {
   "cell_type": "code",
   "execution_count": 124,
   "metadata": {},
   "outputs": [
    {
     "name": "stdout",
     "output_type": "stream",
     "text": [
      "0      False\n",
      "1       True\n",
      "2      False\n",
      "3      False\n",
      "4      False\n",
      "       ...  \n",
      "300     True\n",
      "301     True\n",
      "302     True\n",
      "303     True\n",
      "304    False\n",
      "Length: 305, dtype: bool\n"
     ]
    }
   ],
   "source": [
    "data_7_1 = (data_t1_2020 & data_t1_2019 & data_t1_2018)\n",
    "print(data_7_1)"
   ]
  },
  {
   "cell_type": "code",
   "execution_count": 125,
   "metadata": {
    "scrolled": true
   },
   "outputs": [
    {
     "name": "stdout",
     "output_type": "stream",
     "text": [
      "     booleen\n",
      "0      False\n",
      "1       True\n",
      "2      False\n",
      "3      False\n",
      "4      False\n",
      "..       ...\n",
      "300     True\n",
      "301     True\n",
      "302     True\n",
      "303     True\n",
      "304    False\n",
      "\n",
      "[305 rows x 1 columns]\n"
     ]
    }
   ],
   "source": [
    "# création d'un dataframe\n",
    "df = pd.DataFrame({'booleen' : data_7_1})\n",
    "print(df)"
   ]
  },
  {
   "cell_type": "code",
   "execution_count": 126,
   "metadata": {},
   "outputs": [
    {
     "data": {
      "text/plain": [
       "array([False,  True])"
      ]
     },
     "execution_count": 126,
     "metadata": {},
     "output_type": "execute_result"
    }
   ],
   "source": [
    "#afficher les valeur unique\n",
    "df[\"booleen\"].unique()"
   ]
  },
  {
   "cell_type": "code",
   "execution_count": 127,
   "metadata": {},
   "outputs": [
    {
     "data": {
      "text/plain": [
       "True     163\n",
       "False    142\n",
       "Name: booleen, dtype: int64"
      ]
     },
     "execution_count": 127,
     "metadata": {},
     "output_type": "execute_result"
    }
   ],
   "source": [
    "#et combien de fois elle apparaissent dans la colonnes\n",
    "df[\"booleen\"].value_counts()"
   ]
  },
  {
   "cell_type": "code",
   "execution_count": 171,
   "metadata": {},
   "outputs": [
    {
     "name": "stdout",
     "output_type": "stream",
     "text": [
      "    REG                         LIB  PE2018\n",
      "0     1                  Guadeloupe      17\n",
      "1     2                  Martinique      11\n",
      "2     3                      Guyane       8\n",
      "3     4                  La Réunion      17\n",
      "4     6                     Mayotte       3\n",
      "5    11               Île-de-France     164\n",
      "6    24         Centre-Val de Loire     116\n",
      "7    27     Bourgogne-Franche-Comté     165\n",
      "8    28                   Normandie     145\n",
      "9    32             Hauts-de-France     171\n",
      "10   44                   Grand Est     238\n",
      "11   52            Pays de la Loire     104\n",
      "12   53                    Bretagne      91\n",
      "13   75          Nouvelle-Aquitaine     251\n",
      "14   76                   Occitanie     262\n",
      "15   84        Auvergne-Rhône-Alpes     294\n",
      "16   93  Provence-Alpes-Côte d'Azur     145\n",
      "17   94                       Corse      31\n"
     ]
    }
   ],
   "source": [
    "nom_col = ['REG', 'LIB', 'PE2018']\n",
    "\n",
    "p_emploi = pd.read_excel('Téléchargements/pole_emploi.xlsx', names=nom_col, sheet_name='Data', skiprows=3)\n",
    "\n",
    "print(p_emploi)"
   ]
  },
  {
   "cell_type": "code",
   "execution_count": 172,
   "metadata": {
    "scrolled": true
   },
   "outputs": [
    {
     "name": "stdout",
     "output_type": "stream",
     "text": [
      "      REG            LIB  PE2018  \\\n",
      "0    11.0  Île-de-France   164.0   \n",
      "1    11.0  Île-de-France   164.0   \n",
      "2    11.0  Île-de-France   164.0   \n",
      "3    11.0  Île-de-France   164.0   \n",
      "4    11.0  Île-de-France   164.0   \n",
      "..    ...            ...     ...   \n",
      "300   0.0            NaN     NaN   \n",
      "301   0.0            NaN     NaN   \n",
      "302   0.0            NaN     NaN   \n",
      "303   0.0            NaN     NaN   \n",
      "304   NaN            NaN     NaN   \n",
      "\n",
      "                                                ZE2010  \\\n",
      "0                                                 1101   \n",
      "1                                                 1102   \n",
      "2                                                 1103   \n",
      "3                                                 1104   \n",
      "4                                                 1105   \n",
      "..                                                 ...   \n",
      "300                                               0055   \n",
      "301                                               0056   \n",
      "302                                               0057   \n",
      "303                                               0059   \n",
      "304  Source : Insee, Estimations de taux de chômage...   \n",
      "\n",
      "                     LIBZE2010         LIBREG  2003-T1  2003-T2  2003-T3  \\\n",
      "0                        Paris  Ile-de-France      8.4      8.7      8.7   \n",
      "1              Marne-la-Vallée  Ile-de-France      6.5      6.8      6.9   \n",
      "2                  Coulommiers  Ile-de-France      6.2      6.6      6.5   \n",
      "3                        Meaux  Ile-de-France      6.3      6.7      6.8   \n",
      "4                        Melun  Ile-de-France      6.2      6.6      6.7   \n",
      "..                         ...            ...      ...      ...      ...   \n",
      "300  Vallée de la Bresle-Vimeu  interrégional      7.6      7.6      7.8   \n",
      "301      Roissy - Sud Picardie  interrégional      8.9      9.2      9.2   \n",
      "302         Brive-la-Gaillarde  interrégional      6.0      6.1      6.0   \n",
      "303                    Avignon  interrégional      9.1      9.3      9.1   \n",
      "304                        NaN            NaN      NaN      NaN      NaN   \n",
      "\n",
      "     2003-T4  ...  2017-T4  2018-T1  2018-T2  2018-T3  2018-T4  2019-T1  \\\n",
      "0        9.0  ...      7.7      7.9      7.8      7.7      7.4      7.4   \n",
      "1        7.2  ...      6.9      7.1      7.0      6.9      6.7      6.7   \n",
      "2        6.7  ...      7.0      7.4      7.2      7.0      6.5      6.5   \n",
      "3        7.2  ...      8.5      8.9      8.9      8.8      8.5      8.4   \n",
      "4        7.0  ...      7.3      7.5      7.5      7.4      7.2      7.2   \n",
      "..       ...  ...      ...      ...      ...      ...      ...      ...   \n",
      "300      8.2  ...      9.0      9.2      9.1      9.2      8.9      9.0   \n",
      "301      9.5  ...      9.8     10.1     10.0      9.8      9.5      9.5   \n",
      "302      6.4  ...      7.8      8.2      8.1      8.0      7.7      7.7   \n",
      "303      9.4  ...     11.0     11.2     11.1     11.0     10.7     10.8   \n",
      "304      NaN  ...      NaN      NaN      NaN      NaN      NaN      NaN   \n",
      "\n",
      "     2019-T2  2019-T3  2019-T4  2020-T1  \n",
      "0        7.2      7.3      6.9      6.7  \n",
      "1        6.5      6.5      6.3      6.2  \n",
      "2        6.3      6.4      6.1      5.8  \n",
      "3        8.1      8.2      7.9      7.7  \n",
      "4        7.0      7.1      6.8      6.7  \n",
      "..       ...      ...      ...      ...  \n",
      "300      8.7      8.6      8.4      8.1  \n",
      "301      9.2      9.2      8.9      8.7  \n",
      "302      7.5      7.6      7.3      7.1  \n",
      "303     10.4     10.4     10.0      9.6  \n",
      "304      NaN      NaN      NaN      NaN  \n",
      "\n",
      "[305 rows x 75 columns]\n"
     ]
    }
   ],
   "source": [
    "p_emploi.sort_values('REG')\n",
    "data.sort_values('REG')\n",
    "data_merge = p_emploi.merge(data, how='right')\n",
    "print(data_merge)"
   ]
  },
  {
   "cell_type": "code",
   "execution_count": 183,
   "metadata": {
    "scrolled": true
   },
   "outputs": [
    {
     "name": "stdout",
     "output_type": "stream",
     "text": [
      "0      q50\n",
      "1      q50\n",
      "2      q50\n",
      "3      q50\n",
      "4      q50\n",
      "      ... \n",
      "300    NaN\n",
      "301    NaN\n",
      "302    NaN\n",
      "303    NaN\n",
      "304    NaN\n",
      "Name: QT, Length: 305, dtype: category\n",
      "Categories (4, object): [q25 < q50 < q75 < q100]\n"
     ]
    }
   ],
   "source": [
    "#Créer une colonne quantile dans p_emploi qui prendra les valeurs [‘q25’, ‘q50’, ‘q75’, ‘q100’] \n",
    "#en fonction du quartile auquel appartient le nombre de pôle emploi. utiliser « pd.qcut() »\n",
    "data_merge['QT'] = pd.qcut(data_merge['PE2018'],4,labels= [\"q25\", \"q50\", \"q75\", \"q100\"])\n",
    "print(data_merge['QT'])\n"
   ]
  },
  {
   "cell_type": "code",
   "execution_count": 190,
   "metadata": {},
   "outputs": [
    {
     "name": "stdout",
     "output_type": "stream",
     "text": [
      "QT                               q25       q50       q75      q100\n",
      "LIBREG                                                            \n",
      "Auvergne-Rhône-Alpes             NaN       NaN       NaN  6.728571\n",
      "Bourgogne-Franche-Comté          NaN  6.565217       NaN       NaN\n",
      "Bretagne                    6.661111       NaN       NaN       NaN\n",
      "Centre-Val-de-Loire         7.684211       NaN       NaN       NaN\n",
      "Corse                       8.514286       NaN       NaN       NaN\n",
      "Grand-Est                        NaN       NaN  7.264516       NaN\n",
      "Hauts-de-France                  NaN  9.911538       NaN       NaN\n",
      "Ile-de-France                    NaN  6.794737       NaN       NaN\n",
      "Normandie                   7.150000       NaN       NaN       NaN\n",
      "Nouvelle-Aquitaine               NaN       NaN  7.293548       NaN\n",
      "Occitanie                        NaN       NaN       NaN  9.603333\n",
      "Pays de la Loire            6.563158       NaN       NaN       NaN\n",
      "Provence-Alpes-Côte d'Azur  8.864706       NaN       NaN       NaN\n"
     ]
    }
   ],
   "source": [
    "#Générer un pivot de table montrant la moyenne du taux de chômage du trimestre 1 de\n",
    "#l’année 2020 pour chaque régions et quantile du nombre de pôle emploi.\n",
    "import numpy as np\n",
    "\n",
    "table = pd.pivot_table(data_merge, values='2020-T1', index=['LIBREG'], \n",
    "                    columns=['QT'], aggfunc=np.mean)\n",
    "                       \n",
    "print(table)   "
   ]
  },
  {
   "cell_type": "code",
   "execution_count": null,
   "metadata": {},
   "outputs": [],
   "source": []
  },
  {
   "cell_type": "code",
   "execution_count": null,
   "metadata": {},
   "outputs": [],
   "source": []
  }
 ],
 "metadata": {
  "kernelspec": {
   "display_name": "Python 3",
   "language": "python",
   "name": "python3"
  },
  "language_info": {
   "codemirror_mode": {
    "name": "ipython",
    "version": 3
   },
   "file_extension": ".py",
   "mimetype": "text/x-python",
   "name": "python",
   "nbconvert_exporter": "python",
   "pygments_lexer": "ipython3",
   "version": "3.7.6"
  }
 },
 "nbformat": 4,
 "nbformat_minor": 4
}
