{
 "cells": [
  {
   "cell_type": "code",
   "execution_count": 4,
   "metadata": {},
   "outputs": [
    {
     "name": "stdout",
     "output_type": "stream",
     "text": [
      "Entrer un nombre :0\n",
      "0 est paire\n"
     ]
    }
   ],
   "source": [
    "n = int(input(\"Entrez un nombre :\"))\n",
    "if (n%2) == 0:\n",
    "    print(n, \"est paire\")\n",
    "else:\n",
    "    print(n, \"est impaire\")"
   ]
  },
  {
   "cell_type": "code",
   "execution_count": null,
   "metadata": {},
   "outputs": [],
   "source": []
  },
  {
   "cell_type": "code",
   "execution_count": 50,
   "metadata": {},
   "outputs": [
    {
     "name": "stdout",
     "output_type": "stream",
     "text": [
      "Entrez la valeur a : 2\n",
      "Entrez la valeur b : 5\n",
      "Entrez la valeur c : 8\n",
      "Le triangle n'est pas rectangle\n"
     ]
    }
   ],
   "source": [
    "a = float(input(\"Entrez la valeur a : \"))\n",
    "b = float(input(\"Entrez la valeur b : \"))\n",
    "c = float(input(\"Entrez la valeur c : \"))\n",
    "\n",
    "if (a**2+b**2) == (c**2) or (a**2+c**2) == (b**2):\n",
    "    print(\"Le triangle est rectangle\")\n",
    "elif (b**2+c**2) == (b**2):\n",
    "    print(\"Le triangle est rectangle\")\n",
    "else:\n",
    "    print(\"Le triangle n'est pas rectangle\")\n"
   ]
  },
  {
   "cell_type": "code",
   "execution_count": null,
   "metadata": {},
   "outputs": [],
   "source": []
  },
  {
   "cell_type": "code",
   "execution_count": 38,
   "metadata": {
    "scrolled": true
   },
   "outputs": [
    {
     "name": "stdout",
     "output_type": "stream",
     "text": [
      "Saissir le prix HT : 23\n",
      "Autre prix (23.0, 196)\n",
      "Saissir le prix HT : 45\n",
      "Autre prix (45.0, 196)\n",
      "Saissir le prix HT : 0\n",
      "Autre prix (0.0, 196)\n"
     ]
    }
   ],
   "source": [
    "ttc = 1\n",
    "while ht != 0:\n",
    "    ht = float(input(\"Saisir le prix HT : \"))\n",
    "    ttc = ht*1,196\n",
    "    print(\"Autre prix\", ttc)\n",
    "#Declarer la variable avt le while sinon il ne trouveron pas la variable#"
   ]
  },
  {
   "cell_type": "code",
   "execution_count": null,
   "metadata": {},
   "outputs": [],
   "source": []
  },
  {
   "cell_type": "code",
   "execution_count": 45,
   "metadata": {},
   "outputs": [
    {
     "name": "stdout",
     "output_type": "stream",
     "text": [
      "[1, 2, 3, 4, 5, 7, 8, 9]\n"
     ]
    }
   ],
   "source": [
    "L1 = [2, 7, 3, 1, 5, 7, 1]\n",
    "L2 = [8, 5, 9, 4, 1, 1, 5]\n",
    "L3 = L1 + L2\n",
    "L3 = list(set(L3))\n",
    "print(L3)"
   ]
  },
  {
   "cell_type": "code",
   "execution_count": 48,
   "metadata": {},
   "outputs": [
    {
     "name": "stdout",
     "output_type": "stream",
     "text": [
      "La liste est un palindrome\n"
     ]
    }
   ],
   "source": [
    "liste = [1, 2, 3, 4, 3, 2, 1]\n",
    "if (liste == liste[::-1]): \n",
    "    print(\"La liste est un palindrome\")\n",
    "else:\n",
    "    print(\"La liste n'est pas un palindrome\")"
   ]
  },
  {
   "cell_type": "code",
   "execution_count": null,
   "metadata": {},
   "outputs": [],
   "source": []
  }
 ],
 "metadata": {
  "kernelspec": {
   "display_name": "Python 3",
   "language": "python",
   "name": "python3"
  },
  "language_info": {
   "codemirror_mode": {
    "name": "ipython",
    "version": 3
   },
   "file_extension": ".py",
   "mimetype": "text/x-python",
   "name": "python",
   "nbconvert_exporter": "python",
   "pygments_lexer": "ipython3",
   "version": "3.7.6"
  }
 },
 "nbformat": 4,
 "nbformat_minor": 4
}
